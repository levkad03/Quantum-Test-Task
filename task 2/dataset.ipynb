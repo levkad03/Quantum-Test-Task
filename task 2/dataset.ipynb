{
 "cells": [
  {
   "cell_type": "markdown",
   "metadata": {},
   "source": [
    "# Sentinel-2 Image Dataset Generation\n"
   ]
  },
  {
   "cell_type": "code",
   "execution_count": 41,
   "metadata": {},
   "outputs": [],
   "source": [
    "import os\n",
    "\n",
    "import numpy as np\n",
    "import rasterio\n",
    "from PIL import Image\n",
    "from rasterio.plot import reshape_as_image\n",
    "from tqdm import tqdm\n"
   ]
  },
  {
   "cell_type": "code",
   "execution_count": 42,
   "metadata": {},
   "outputs": [],
   "source": [
    "data_path = \"Sentinel-2 data\"\n",
    "dev_dataset_path = \"image_dataset\"\n",
    "\n",
    "if not os.path.exists(dev_dataset_path):\n",
    "    os.makedirs(dev_dataset_path)"
   ]
  },
  {
   "cell_type": "markdown",
   "metadata": {},
   "source": [
    "Since the satelite images are in jp2 format, and full image is named _TCI.jp2, we need to find those files and convert them to JPEG format"
   ]
  },
  {
   "cell_type": "code",
   "execution_count": 43,
   "metadata": {},
   "outputs": [],
   "source": [
    "def find_tci(folder):\n",
    "    \"\"\"\n",
    "    Finds TCI.jp2 file in folders\n",
    "    \"\"\"\n",
    "    tci_path = None\n",
    "\n",
    "    # Loop over all folders and files\n",
    "    for root, _, files in os.walk(folder):\n",
    "        for file in files:\n",
    "            # Check if files is _TCI.jp2\n",
    "            if file.endswith(\"_TCI.jp2\"):\n",
    "                tci_path = os.path.join(root, file)\n",
    "    # Return file path\n",
    "    return tci_path\n",
    "\n",
    "\n",
    "def normalize(band):\n",
    "    \"\"\"Normalizes band in range [0, 255]\"\"\"\n",
    "    return ((band - band.min()) / (band.max() - band.min()) * 255).astype(np.uint8)"
   ]
  },
  {
   "cell_type": "code",
   "execution_count": 44,
   "metadata": {},
   "outputs": [
    {
     "name": "stderr",
     "output_type": "stream",
     "text": [
      "Processing tiles:   2%|▏         | 1/50 [00:11<09:12, 11.28s/it]"
     ]
    },
    {
     "name": "stdout",
     "output_type": "stream",
     "text": [
      "Saved: image_dataset\\S2A_MSIL1C_20160212T084052_N0201_R064_T36UYA_20160212T084510.jpg\n"
     ]
    },
    {
     "name": "stderr",
     "output_type": "stream",
     "text": [
      "Processing tiles:   4%|▍         | 2/50 [00:20<08:16, 10.34s/it]"
     ]
    },
    {
     "name": "stdout",
     "output_type": "stream",
     "text": [
      "Saved: image_dataset\\S2A_MSIL1C_20160330T082542_N0201_R021_T36UYA_20160330T082810.jpg\n"
     ]
    },
    {
     "name": "stderr",
     "output_type": "stream",
     "text": [
      "Processing tiles:   6%|▌         | 3/50 [00:29<07:29,  9.57s/it]"
     ]
    },
    {
     "name": "stdout",
     "output_type": "stream",
     "text": [
      "Saved: image_dataset\\S2A_MSIL1C_20160405T085012_N0201_R107_T36UYA_20160405T085012.jpg\n"
     ]
    },
    {
     "name": "stderr",
     "output_type": "stream",
     "text": [
      "Processing tiles:   8%|▊         | 4/50 [00:44<08:54, 11.63s/it]"
     ]
    },
    {
     "name": "stdout",
     "output_type": "stream",
     "text": [
      "Saved: image_dataset\\S2A_MSIL1C_20160502T083602_N0201_R064_T36UYA_20160502T084425.jpg\n"
     ]
    },
    {
     "name": "stderr",
     "output_type": "stream",
     "text": [
      "Processing tiles:  10%|█         | 5/50 [00:55<08:29, 11.32s/it]"
     ]
    },
    {
     "name": "stdout",
     "output_type": "stream",
     "text": [
      "Saved: image_dataset\\S2A_MSIL1C_20160509T082612_N0202_R021_T36UYA_20160509T083548.jpg\n"
     ]
    },
    {
     "name": "stderr",
     "output_type": "stream",
     "text": [
      "Processing tiles:  12%|█▏        | 6/50 [01:04<07:42, 10.51s/it]"
     ]
    },
    {
     "name": "stdout",
     "output_type": "stream",
     "text": [
      "Saved: image_dataset\\S2A_MSIL1C_20160618T082602_N0204_R021_T36UYA_20160618T083357.jpg\n"
     ]
    },
    {
     "name": "stderr",
     "output_type": "stream",
     "text": [
      "Processing tiles:  14%|█▍        | 7/50 [01:16<07:53, 11.01s/it]"
     ]
    },
    {
     "name": "stdout",
     "output_type": "stream",
     "text": [
      "Saved: image_dataset\\S2A_MSIL1C_20160621T084012_N0204_R064_T36UYA_20160621T084513.jpg\n"
     ]
    },
    {
     "name": "stderr",
     "output_type": "stream",
     "text": [
      "Processing tiles:  16%|█▌        | 8/50 [01:28<07:59, 11.43s/it]"
     ]
    },
    {
     "name": "stdout",
     "output_type": "stream",
     "text": [
      "Saved: image_dataset\\S2A_MSIL1C_20160830T083602_N0204_R064_T36UYA_20160830T083600.jpg\n"
     ]
    },
    {
     "name": "stderr",
     "output_type": "stream",
     "text": [
      "Processing tiles:  18%|█▊        | 9/50 [01:37<07:14, 10.61s/it]"
     ]
    },
    {
     "name": "stdout",
     "output_type": "stream",
     "text": [
      "Saved: image_dataset\\S2A_MSIL1C_20161026T083032_N0204_R021_T36UYA_20161026T083029.jpg\n"
     ]
    },
    {
     "name": "stderr",
     "output_type": "stream",
     "text": [
      "Processing tiles:  20%|██        | 10/50 [01:45<06:32,  9.81s/it]"
     ]
    },
    {
     "name": "stdout",
     "output_type": "stream",
     "text": [
      "Saved: image_dataset\\S2A_MSIL1C_20161121T085252_N0204_R107_T36UYA_20161121T085252.jpg\n"
     ]
    },
    {
     "name": "stderr",
     "output_type": "stream",
     "text": [
      "Processing tiles:  22%|██▏       | 11/50 [01:53<06:08,  9.45s/it]"
     ]
    },
    {
     "name": "stdout",
     "output_type": "stream",
     "text": [
      "Saved: image_dataset\\S2A_MSIL1C_20161205T083332_N0204_R021_T36UYA_20161205T083327.jpg\n"
     ]
    },
    {
     "name": "stderr",
     "output_type": "stream",
     "text": [
      "Processing tiles:  24%|██▍       | 12/50 [02:06<06:30, 10.28s/it]"
     ]
    },
    {
     "name": "stdout",
     "output_type": "stream",
     "text": [
      "Saved: image_dataset\\S2A_MSIL1C_20180731T083601_N0206_R064_T36UXA_20180731T110233.jpg\n"
     ]
    },
    {
     "name": "stderr",
     "output_type": "stream",
     "text": [
      "Processing tiles:  26%|██▌       | 13/50 [02:18<06:45, 10.95s/it]"
     ]
    },
    {
     "name": "stdout",
     "output_type": "stream",
     "text": [
      "Saved: image_dataset\\S2A_MSIL1C_20180810T083601_N0206_R064_T36UXA_20180810T124435.jpg\n"
     ]
    },
    {
     "name": "stderr",
     "output_type": "stream",
     "text": [
      "Processing tiles:  28%|██▊       | 14/50 [02:30<06:48, 11.35s/it]"
     ]
    },
    {
     "name": "stdout",
     "output_type": "stream",
     "text": [
      "Saved: image_dataset\\S2A_MSIL1C_20180820T083601_N0206_R064_T36UXA_20180820T105651.jpg\n"
     ]
    },
    {
     "name": "stderr",
     "output_type": "stream",
     "text": [
      "Processing tiles:  30%|███       | 15/50 [02:43<06:49, 11.69s/it]"
     ]
    },
    {
     "name": "stdout",
     "output_type": "stream",
     "text": [
      "Saved: image_dataset\\S2A_MSIL1C_20180830T083601_N0206_R064_T36UXA_20180830T105527.jpg\n"
     ]
    },
    {
     "name": "stderr",
     "output_type": "stream",
     "text": [
      "Processing tiles:  32%|███▏      | 16/50 [02:55<06:43, 11.88s/it]"
     ]
    },
    {
     "name": "stdout",
     "output_type": "stream",
     "text": [
      "Saved: image_dataset\\S2A_MSIL1C_20180919T083621_N0206_R064_T36UXA_20180919T105540.jpg\n"
     ]
    },
    {
     "name": "stderr",
     "output_type": "stream",
     "text": [
      "Processing tiles:  34%|███▍      | 17/50 [03:08<06:38, 12.07s/it]"
     ]
    },
    {
     "name": "stdout",
     "output_type": "stream",
     "text": [
      "Saved: image_dataset\\S2A_MSIL1C_20190318T083701_N0207_R064_T36UYA_20190318T122410.jpg\n"
     ]
    },
    {
     "name": "stderr",
     "output_type": "stream",
     "text": [
      "Processing tiles:  36%|███▌      | 18/50 [03:20<06:25, 12.04s/it]"
     ]
    },
    {
     "name": "stdout",
     "output_type": "stream",
     "text": [
      "Saved: image_dataset\\S2A_MSIL1C_20190328T084011_N0207_R064_T36UYA_20190328T123410.jpg\n"
     ]
    },
    {
     "name": "stderr",
     "output_type": "stream",
     "text": [
      "Processing tiles:  38%|███▊      | 19/50 [03:32<06:16, 12.15s/it]"
     ]
    },
    {
     "name": "stdout",
     "output_type": "stream",
     "text": [
      "Saved: image_dataset\\S2A_MSIL1C_20190407T083601_N0207_R064_T36UYA_20190407T104310.jpg\n"
     ]
    },
    {
     "name": "stderr",
     "output_type": "stream",
     "text": [
      "Processing tiles:  40%|████      | 20/50 [03:44<06:02, 12.07s/it]"
     ]
    },
    {
     "name": "stdout",
     "output_type": "stream",
     "text": [
      "Saved: image_dataset\\S2A_MSIL1C_20190417T083601_N0207_R064_T36UYA_20190417T101351.jpg\n"
     ]
    },
    {
     "name": "stderr",
     "output_type": "stream",
     "text": [
      "Processing tiles:  42%|████▏     | 21/50 [03:56<05:52, 12.15s/it]"
     ]
    },
    {
     "name": "stdout",
     "output_type": "stream",
     "text": [
      "Saved: image_dataset\\S2A_MSIL1C_20190427T083601_N0207_R064_T36UXA_20190427T100851.jpg\n"
     ]
    },
    {
     "name": "stderr",
     "output_type": "stream",
     "text": [
      "Processing tiles:  44%|████▍     | 22/50 [04:09<05:43, 12.28s/it]"
     ]
    },
    {
     "name": "stdout",
     "output_type": "stream",
     "text": [
      "Saved: image_dataset\\S2A_MSIL1C_20190427T083601_N0207_R064_T36UYA_20190427T100851.jpg\n"
     ]
    },
    {
     "name": "stderr",
     "output_type": "stream",
     "text": [
      "Processing tiles:  46%|████▌     | 23/50 [04:21<05:34, 12.37s/it]"
     ]
    },
    {
     "name": "stdout",
     "output_type": "stream",
     "text": [
      "Saved: image_dataset\\S2A_MSIL1C_20190517T083601_N0207_R064_T36UYA_20190517T100755.jpg\n"
     ]
    },
    {
     "name": "stderr",
     "output_type": "stream",
     "text": [
      "Processing tiles:  48%|████▊     | 24/50 [04:34<05:21, 12.36s/it]"
     ]
    },
    {
     "name": "stdout",
     "output_type": "stream",
     "text": [
      "Saved: image_dataset\\S2A_MSIL1C_20190606T083601_N0207_R064_T36UXA_20190606T104250.jpg\n"
     ]
    },
    {
     "name": "stderr",
     "output_type": "stream",
     "text": [
      "Processing tiles:  50%|█████     | 25/50 [04:46<05:08, 12.36s/it]"
     ]
    },
    {
     "name": "stdout",
     "output_type": "stream",
     "text": [
      "Saved: image_dataset\\S2A_MSIL1C_20190606T083601_N0207_R064_T36UYA_20190606T104250.jpg\n"
     ]
    },
    {
     "name": "stderr",
     "output_type": "stream",
     "text": [
      "Processing tiles:  52%|█████▏    | 26/50 [04:59<04:58, 12.43s/it]"
     ]
    },
    {
     "name": "stdout",
     "output_type": "stream",
     "text": [
      "Saved: image_dataset\\S2A_MSIL1C_20190616T083601_N0207_R064_T36UYA_20190616T105922.jpg\n"
     ]
    },
    {
     "name": "stderr",
     "output_type": "stream",
     "text": [
      "Processing tiles:  54%|█████▍    | 27/50 [05:11<04:47, 12.49s/it]"
     ]
    },
    {
     "name": "stdout",
     "output_type": "stream",
     "text": [
      "Saved: image_dataset\\S2A_MSIL1C_20190626T083601_N0207_R064_T36UYA_20190626T104306.jpg\n"
     ]
    },
    {
     "name": "stderr",
     "output_type": "stream",
     "text": [
      "Processing tiles:  56%|█████▌    | 28/50 [05:23<04:27, 12.15s/it]"
     ]
    },
    {
     "name": "stdout",
     "output_type": "stream",
     "text": [
      "Saved: image_dataset\\S2A_MSIL1C_20190706T083611_N0207_R064_T36UYA_20190706T104407.jpg\n"
     ]
    },
    {
     "name": "stderr",
     "output_type": "stream",
     "text": [
      "Processing tiles:  58%|█████▊    | 29/50 [05:33<04:05, 11.70s/it]"
     ]
    },
    {
     "name": "stdout",
     "output_type": "stream",
     "text": [
      "Saved: image_dataset\\S2A_MSIL1C_20190726T083611_N0208_R064_T36UYA_20190726T104344.jpg\n"
     ]
    },
    {
     "name": "stderr",
     "output_type": "stream",
     "text": [
      "Processing tiles:  60%|██████    | 30/50 [05:46<03:57, 11.90s/it]"
     ]
    },
    {
     "name": "stdout",
     "output_type": "stream",
     "text": [
      "Saved: image_dataset\\S2A_MSIL1C_20190805T083601_N0208_R064_T36UYA_20190805T104319.jpg\n"
     ]
    },
    {
     "name": "stderr",
     "output_type": "stream",
     "text": [
      "Processing tiles:  62%|██████▏   | 31/50 [05:58<03:48, 12.03s/it]"
     ]
    },
    {
     "name": "stdout",
     "output_type": "stream",
     "text": [
      "Saved: image_dataset\\S2A_MSIL1C_20190815T083601_N0208_R064_T36UYA_20190815T123742.jpg\n"
     ]
    },
    {
     "name": "stderr",
     "output_type": "stream",
     "text": [
      "Processing tiles:  64%|██████▍   | 32/50 [06:11<03:39, 12.17s/it]"
     ]
    },
    {
     "name": "stdout",
     "output_type": "stream",
     "text": [
      "Saved: image_dataset\\S2A_MSIL1C_20190825T083601_N0208_R064_T36UYA_20190825T104312.jpg\n"
     ]
    },
    {
     "name": "stderr",
     "output_type": "stream",
     "text": [
      "Processing tiles:  66%|██████▌   | 33/50 [06:23<03:27, 12.22s/it]"
     ]
    },
    {
     "name": "stdout",
     "output_type": "stream",
     "text": [
      "Saved: image_dataset\\S2A_MSIL1C_20190904T083601_N0208_R064_T36UYA_20190904T110155.jpg\n"
     ]
    },
    {
     "name": "stderr",
     "output_type": "stream",
     "text": [
      "Processing tiles:  68%|██████▊   | 34/50 [06:34<03:08, 11.76s/it]"
     ]
    },
    {
     "name": "stdout",
     "output_type": "stream",
     "text": [
      "Saved: image_dataset\\S2B_MSIL1C_20180726T084009_N0206_R064_T36UXA_20180726T104227.jpg\n"
     ]
    },
    {
     "name": "stderr",
     "output_type": "stream",
     "text": [
      "Processing tiles:  70%|███████   | 35/50 [06:46<02:58, 11.91s/it]"
     ]
    },
    {
     "name": "stdout",
     "output_type": "stream",
     "text": [
      "Saved: image_dataset\\S2B_MSIL1C_20180805T083559_N0206_R064_T36UXA_20180805T123757.jpg\n"
     ]
    },
    {
     "name": "stderr",
     "output_type": "stream",
     "text": [
      "Processing tiles:  72%|███████▏  | 36/50 [06:58<02:49, 12.08s/it]"
     ]
    },
    {
     "name": "stdout",
     "output_type": "stream",
     "text": [
      "Saved: image_dataset\\S2B_MSIL1C_20180815T084009_N0206_R064_T36UXA_20180815T123155.jpg\n"
     ]
    },
    {
     "name": "stderr",
     "output_type": "stream",
     "text": [
      "Processing tiles:  74%|███████▍  | 37/50 [07:11<02:38, 12.18s/it]"
     ]
    },
    {
     "name": "stdout",
     "output_type": "stream",
     "text": [
      "Saved: image_dataset\\S2B_MSIL1C_20180825T083549_N0206_R064_T36UXA_20180825T124942.jpg\n"
     ]
    },
    {
     "name": "stderr",
     "output_type": "stream",
     "text": [
      "Processing tiles:  76%|███████▌  | 38/50 [07:23<02:26, 12.23s/it]"
     ]
    },
    {
     "name": "stdout",
     "output_type": "stream",
     "text": [
      "Saved: image_dataset\\S2B_MSIL1C_20180904T083549_N0206_R064_T36UXA_20180904T123955.jpg\n"
     ]
    },
    {
     "name": "stderr",
     "output_type": "stream",
     "text": [
      "Processing tiles:  78%|███████▊  | 39/50 [07:36<02:15, 12.32s/it]"
     ]
    },
    {
     "name": "stdout",
     "output_type": "stream",
     "text": [
      "Saved: image_dataset\\S2B_MSIL1C_20190313T083739_N0207_R064_T36UYA_20190313T122406.jpg\n"
     ]
    },
    {
     "name": "stderr",
     "output_type": "stream",
     "text": [
      "Processing tiles:  80%|████████  | 40/50 [07:48<02:03, 12.30s/it]"
     ]
    },
    {
     "name": "stdout",
     "output_type": "stream",
     "text": [
      "Saved: image_dataset\\S2B_MSIL1C_20190402T083559_N0207_R064_T36UYA_20190402T111852.jpg\n"
     ]
    },
    {
     "name": "stderr",
     "output_type": "stream",
     "text": [
      "Processing tiles:  82%|████████▏ | 41/50 [08:00<01:50, 12.29s/it]"
     ]
    },
    {
     "name": "stdout",
     "output_type": "stream",
     "text": [
      "Saved: image_dataset\\S2B_MSIL1C_20190412T083609_N0207_R064_T36UYA_20190412T122445.jpg\n"
     ]
    },
    {
     "name": "stderr",
     "output_type": "stream",
     "text": [
      "Processing tiles:  84%|████████▍ | 42/50 [08:12<01:38, 12.27s/it]"
     ]
    },
    {
     "name": "stdout",
     "output_type": "stream",
     "text": [
      "Saved: image_dataset\\S2B_MSIL1C_20190422T083609_N0207_R064_T36UYA_20190422T122243.jpg\n"
     ]
    },
    {
     "name": "stderr",
     "output_type": "stream",
     "text": [
      "Processing tiles:  86%|████████▌ | 43/50 [08:25<01:25, 12.28s/it]"
     ]
    },
    {
     "name": "stdout",
     "output_type": "stream",
     "text": [
      "Saved: image_dataset\\S2B_MSIL1C_20190601T083609_N0207_R064_T36UYA_20190601T104404.jpg\n"
     ]
    },
    {
     "name": "stderr",
     "output_type": "stream",
     "text": [
      "Processing tiles:  88%|████████▊ | 44/50 [08:37<01:13, 12.26s/it]"
     ]
    },
    {
     "name": "stdout",
     "output_type": "stream",
     "text": [
      "Saved: image_dataset\\S2B_MSIL1C_20190611T083609_N0207_R064_T36UYA_20190611T122426.jpg\n"
     ]
    },
    {
     "name": "stderr",
     "output_type": "stream",
     "text": [
      "Processing tiles:  90%|█████████ | 45/50 [08:49<01:01, 12.30s/it]"
     ]
    },
    {
     "name": "stdout",
     "output_type": "stream",
     "text": [
      "Saved: image_dataset\\S2B_MSIL1C_20190621T083609_N0207_R064_T36UYA_20190621T104242.jpg\n"
     ]
    },
    {
     "name": "stderr",
     "output_type": "stream",
     "text": [
      "Processing tiles:  92%|█████████▏| 46/50 [09:02<00:49, 12.32s/it]"
     ]
    },
    {
     "name": "stdout",
     "output_type": "stream",
     "text": [
      "Saved: image_dataset\\S2B_MSIL1C_20190701T083609_N0207_R064_T36UYA_20190701T113927.jpg\n"
     ]
    },
    {
     "name": "stderr",
     "output_type": "stream",
     "text": [
      "Processing tiles:  94%|█████████▍| 47/50 [09:14<00:36, 12.30s/it]"
     ]
    },
    {
     "name": "stdout",
     "output_type": "stream",
     "text": [
      "Saved: image_dataset\\S2B_MSIL1C_20190721T083609_N0208_R064_T36UYA_20190721T110447.jpg\n"
     ]
    },
    {
     "name": "stderr",
     "output_type": "stream",
     "text": [
      "Processing tiles:  96%|█████████▌| 48/50 [09:26<00:24, 12.37s/it]"
     ]
    },
    {
     "name": "stdout",
     "output_type": "stream",
     "text": [
      "Saved: image_dataset\\S2B_MSIL1C_20190810T083609_N0208_R064_T36UYA_20190810T122530.jpg\n"
     ]
    },
    {
     "name": "stderr",
     "output_type": "stream",
     "text": [
      "Processing tiles:  98%|█████████▊| 49/50 [09:39<00:12, 12.36s/it]"
     ]
    },
    {
     "name": "stdout",
     "output_type": "stream",
     "text": [
      "Saved: image_dataset\\S2B_MSIL1C_20190830T083609_N0208_R064_T36UYA_20190830T114819.jpg\n"
     ]
    },
    {
     "name": "stderr",
     "output_type": "stream",
     "text": [
      "Processing tiles: 100%|██████████| 50/50 [09:51<00:00, 11.83s/it]"
     ]
    },
    {
     "name": "stdout",
     "output_type": "stream",
     "text": [
      "Saved: image_dataset\\S2B_MSIL1C_20190909T083559_N0208_R064_T36UYA_20190909T122324.jpg\n",
      "Convertation complete\n"
     ]
    },
    {
     "name": "stderr",
     "output_type": "stream",
     "text": [
      "\n"
     ]
    }
   ],
   "source": [
    "# Get list of folders with TCI\n",
    "tile_folders = [\n",
    "    os.path.join(data_path, f)\n",
    "    for f in os.listdir(data_path)\n",
    "    if os.path.isdir(os.path.join(data_path, f))\n",
    "]\n",
    "\n",
    "# Tile processing\n",
    "for tile_folder in tqdm(tile_folders, desc=\"Processing tiles\"):\n",
    "    tci_or_bands = find_tci(tile_folder)\n",
    "\n",
    "    if not tci_or_bands:\n",
    "        print(f\"Missed: {tile_folder} (no data)\")\n",
    "        continue\n",
    "\n",
    "    with rasterio.open(tci_or_bands) as src:\n",
    "        tci = reshape_as_image(src.read())  # (H, W, C)\n",
    "        tci = normalize(tci)\n",
    "\n",
    "    # Save in JPEG\n",
    "    tile_name = os.path.basename(tile_folder)\n",
    "    jpg_path = os.path.join(dev_dataset_path, f\"{tile_name}.jpg\")\n",
    "    Image.fromarray(tci).save(jpg_path, \"JPEG\", quality=95)\n",
    "\n",
    "    print(f\"Saved: {jpg_path}\")\n",
    "\n",
    "print(\"Convertation complete\")"
   ]
  }
 ],
 "metadata": {
  "kernelspec": {
   "display_name": "venv",
   "language": "python",
   "name": "python3"
  },
  "language_info": {
   "codemirror_mode": {
    "name": "ipython",
    "version": 3
   },
   "file_extension": ".py",
   "mimetype": "text/x-python",
   "name": "python",
   "nbconvert_exporter": "python",
   "pygments_lexer": "ipython3",
   "version": "3.11.8"
  }
 },
 "nbformat": 4,
 "nbformat_minor": 2
}
