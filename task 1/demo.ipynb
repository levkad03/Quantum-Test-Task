{
 "cells": [
  {
   "cell_type": "markdown",
   "metadata": {},
   "source": [
    "# NER Demo\n"
   ]
  },
  {
   "cell_type": "code",
   "execution_count": 17,
   "metadata": {},
   "outputs": [
    {
     "name": "stderr",
     "output_type": "stream",
     "text": [
      "C:\\Users\\levka\\AppData\\Local\\Temp\\ipykernel_28528\\1821344922.py:1: DeprecationWarning: Importing display from IPython.core.display is deprecated since IPython 7.14, please import from IPython.display\n",
      "  from IPython.core.display import HTML, display\n"
     ]
    }
   ],
   "source": [
    "from IPython.core.display import HTML, display\n",
    "from transformers import AutoModelForTokenClassification, AutoTokenizer, pipeline\n"
   ]
  },
  {
   "cell_type": "code",
   "execution_count": 18,
   "metadata": {},
   "outputs": [
    {
     "name": "stderr",
     "output_type": "stream",
     "text": [
      "Device set to use cuda:0\n"
     ]
    }
   ],
   "source": [
    "model_path = \"saved_model\"\n",
    "# id to label for better understanding\n",
    "id2label = {0: \"O\", 1: \"B-MNTN\", 2: \"I-MNTN\"}\n",
    "\n",
    "# define model and tokenizer\n",
    "model = AutoModelForTokenClassification.from_pretrained(model_path, id2label=id2label)\n",
    "tokenizer = AutoTokenizer.from_pretrained(model_path)\n",
    "\n",
    "# Define ner pipeline\n",
    "ner_pipeline = pipeline(\"ner\", model=model, tokenizer=tokenizer)\n",
    "\n",
    "\n",
    "def highlight_mountains(text, results):\n",
    "    highlighted_text = \"\"\n",
    "    last_index = 0\n",
    "\n",
    "    for entity in results:\n",
    "        start, end = entity[\"start\"], entity[\"end\"]\n",
    "\n",
    "        # Add text to found object\n",
    "        highlighted_text += text[last_index:start]\n",
    "\n",
    "        # Highlight mountain name\n",
    "        highlighted_text += (\n",
    "            f'<span style=\"color: red; font-weight: bold;\">{text[start:end]}</span>'\n",
    "        )\n",
    "\n",
    "        last_index = end\n",
    "\n",
    "    highlighted_text += text[last_index:]  # Add text that left\n",
    "    return highlighted_text"
   ]
  },
  {
   "cell_type": "code",
   "execution_count": 19,
   "metadata": {},
   "outputs": [
    {
     "data": {
      "text/html": [
       "I really love the <span style=\"color: red; font-weight: bold;\">Hua</span><span style=\"color: red; font-weight: bold;\">sca</span><span style=\"color: red; font-weight: bold;\">ran</span>"
      ],
      "text/plain": [
       "<IPython.core.display.HTML object>"
      ]
     },
     "metadata": {},
     "output_type": "display_data"
    }
   ],
   "source": [
    "# Write sentence here\n",
    "sentence = \"I really love the Huascaran\"\n",
    "\n",
    "results = ner_pipeline(sentence)\n",
    "\n",
    "highlighted_sentence = highlight_mountains(sentence, results)\n",
    "\n",
    "display(HTML(highlighted_sentence))"
   ]
  }
 ],
 "metadata": {
  "kernelspec": {
   "display_name": "venv",
   "language": "python",
   "name": "python3"
  },
  "language_info": {
   "codemirror_mode": {
    "name": "ipython",
    "version": 3
   },
   "file_extension": ".py",
   "mimetype": "text/x-python",
   "name": "python",
   "nbconvert_exporter": "python",
   "pygments_lexer": "ipython3",
   "version": "3.11.8"
  }
 },
 "nbformat": 4,
 "nbformat_minor": 2
}
