{
 "cells": [
  {
   "cell_type": "markdown",
   "metadata": {},
   "source": [
    "# Dataset Generation"
   ]
  },
  {
   "cell_type": "code",
   "execution_count": 71,
   "metadata": {},
   "outputs": [],
   "source": [
    "import csv\n",
    "import random\n",
    "\n",
    "import pandas as pd\n",
    "import requests\n",
    "from bs4 import BeautifulSoup\n"
   ]
  },
  {
   "cell_type": "markdown",
   "metadata": {},
   "source": [
    "Setting random seed, scraping a website with english sentences with word \"mountains\""
   ]
  },
  {
   "cell_type": "code",
   "execution_count": 72,
   "metadata": {},
   "outputs": [
    {
     "name": "stdout",
     "output_type": "stream",
     "text": [
      "['I was in the mountains.', 'Mountains in the ocean and even whole ranges are still being discovered, and most of them have not yet been explored in detail.', 'I would rather go to the mountains than to the beach.', 'Which do you like better, the sea or the mountains?', 'Some people like the sea; others prefer the mountains.', 'We watched the sun setting behind the mountains.', 'The mountains are a lush green in summer.', 'I was roaming over the mountains all through the night.', 'The mountains in the Himalayas are higher than those in the Andes.', 'It was so nice a day that we went for a hike in the mountains.', 'The girl is getting over mountains of difficulties.', 'The path twists through the mountains.', 'The mountains look nicer from a distance.', 'The two mountains are of equal height.', 'The mountains in this part of the country are full of variety.', 'This river rises in the mountains in Nagano.', \"It's very pleasant here in the mountains.\", 'This dog is trained to save people in the mountains.', 'The moon is coming up over the mountains.', 'For a person who is in good physical condition, climbing mountains is a cinch.', 'We could see the reflection of the mountains in the lake.', 'A vast forest covers the mountains.', 'The air is rare on high mountains.', 'Nearly 80 percent of the land is mountains.', \"Why don't we go to the mountains this weekend?\", 'Those mountains over there have turned white this morning.', 'The mountains are reflected in the lake.', 'You cannot be careful in the mountains.', 'I anticipated a quiet vacation in the mountains.', \"We're going up into the mountains, so why don't you come with us?\", 'The sun descended behind the mountains.', 'It is warmer over the mountains.', 'The air is very pure in the mountains.', 'In the mountains it is not until the end of April that the snow disappears completely from the ground.', 'Mountains look better viewed from a distance.', 'The mountains lay covered with deep snow.', 'Mountains are not necessarily green.', 'The mountains are red against the blue sky.', 'My brother loves taking pictures of mountains.', 'My town is surrounded by tall mountains.', 'I am thinking of going to the mountains.', 'I went to Nagano to take pictures of the mountains covered with snow.', 'At one time I lived alone in the mountains.', 'I like mountains better than seas.', 'I climb mountains because they are there.', 'I like to walk in the mountains.', 'I like climbing mountains.', 'I saw a chain of mountains.', 'I am going to write about our parks and mountains.', 'I would go to the mountains when young.', 'I know better than to climb mountains in winter without making all necessary preparations beforehand.', \"I don't like my brother climbing the mountains.\", 'We went to the mountains to ski.', 'Everything in the fields and mountains looks fresh when spring comes.', 'Faith can move mountains.', 'They have climbed the highest mountains and walked on the floor of the seas.', 'Look at the mountains covered with snow.', 'Some snow-covered mountains were seen in the distance.', 'The river descends from the mountains to the bay below.', \"You'll see a lot of high mountains through the window.\", 'The mountains have brought forth a mouse.', 'The black and white bears living in the mountains of China and Tibet are called pandas.', 'With winter coming on, the mountains will soon be covered with snow.', 'You had better not climb such high mountains in winter.', 'Run and hide in the mountains.', 'Japan has a lot of beautiful mountains.', 'His airplane crashed in the mountains.', 'He makes mountains out of molehills.', 'He likes mountaineering and is at home with Japanese mountains.', \"He's accustomed to climbing mountains.\", 'He led his men and horses over snowy mountains and down into hot valleys.', 'They went to a resort in the mountains last summer.', \"They couldn't decide whether to go to the mountains or the sea.\", 'Flat land has no mountains or hills.', 'There are colossal mountains in the north.', 'Playing baseball is a sport, and climbing mountains is a sport, too.', 'The suspect was hiding out in the mountains for three weeks.', \"The UFO, with a zigzag movement you couldn't think of as being a plane, flew off into the mountains in the east.\", 'Tadami is in Minamiaizu in Fukushima; cut off by steep mountains and located on the prefecture border with Niigata.', 'When warm, light, air crosses mountains it rises into the upper atmosphere and does not fall back to the ground. In this, and other, ways wind changes with the terrain.', 'Even as we stand here tonight, we know there are brave Americans waking up in the deserts of Iraq and the mountains of Afghanistan to risk their lives for us.', 'Even as we stand here tonight, we know there are brave Americans waking up in the deserts of Iraq and the mountains of Afghanistan, to risk their lives for us.', 'When violent extremists operate in one stretch of mountains, people are endangered across an ocean.', 'All the villagers went into the mountains to look for a missing cat.', \"Let's go for a walk to the mountains.\", 'There is definitely a way to quit the world and live like an hermit in the mountains, being self-sufficient and without contact with anybody while not dying like a dog.', 'The salts and minerals found in these mountains are quite diverse.', 'I would have gone to the mountains had I had the money.', \"This summer we'll go to the mountains and to the sea.\", 'I suggest that you visit some villages in the mountains.', 'We are going to the mountains.', 'I like the mountains more than I like the sea.', \"It's so grey out there that I can't see the mountains on the other side of the valley.\", 'With these eyes, I shall see mountains burn.', 'The mountains could be seen from afar, and it was a breathtaking sight.', 'My parents met each other in the mountains.', \"We're taking a crash course in first aid before our two-week trek through the mountains.\", 'The mountains were all around the city.', 'Tom loves to climb mountains.', 'The lake is surrounded by mountains.', \"Tom's dream is to live in the mountains.\"]\n"
     ]
    }
   ],
   "source": [
    "random.seed(42)\n",
    "\n",
    "url = \"https://gikken.co/mate-translate/sentences/english/mountains\"\n",
    "\n",
    "response = requests.get(url)\n",
    "\n",
    "if response.status_code == 200:\n",
    "    soup = BeautifulSoup(response.content, \"html.parser\")\n",
    "\n",
    "    sentence_container = soup.find(\"div\", class_=\"example-sentences\")\n",
    "\n",
    "    sentences = [\n",
    "        p.get_text(strip=True).replace(\"Translate from English to English\", \"\").strip()\n",
    "        for p in sentence_container.find_all(\"p\")\n",
    "    ]\n",
    "\n",
    "    print(sentences)\n",
    "else:\n",
    "    print(\"error\")"
   ]
  },
  {
   "cell_type": "markdown",
   "metadata": {},
   "source": [
    "Then we create a list with mountain names and create a function, that replaces word \"mountains\" with a random mountain name"
   ]
  },
  {
   "cell_type": "code",
   "execution_count": 73,
   "metadata": {},
   "outputs": [],
   "source": [
    "mountain_list = [\n",
    "    \"Mount Everest\",\n",
    "    \"K2\",\n",
    "    \"Mount Kilimanjaro\",\n",
    "    \"Denali\",\n",
    "    \"Mont Blanc\",\n",
    "    \"Mount Whitney\",\n",
    "    \"Mount Rainier\",\n",
    "    \"Mount Elbert\",\n",
    "    \"Mount Logan\",\n",
    "    \"Mount Saint Elias\",\n",
    "    \"Matterhorn\",\n",
    "    \"Ben Nevis\",\n",
    "    \"Mount Elbrus\",\n",
    "    \"Grossglockner\",\n",
    "    \"Annapurna\",\n",
    "    \"Kangchenjunga\",\n",
    "    \"Nanga Parbat\",\n",
    "    \"Mount Fuji\",\n",
    "    \"Aconcagua\",\n",
    "    \"Huascarán\",\n",
    "    \"Chimborazo\",\n",
    "    \"Mount KenyaSimien MountainsDrakensberg\",\n",
    "]\n",
    "\n",
    "def replace_mountains(sentences, mountain_names):\n",
    "    replaced_sentences = []\n",
    "    \n",
    "    for sentence in sentences:\n",
    "        # select random mountain name\n",
    "        mountain_name = random.choice(mountain_names)\n",
    "        # replace uppercase mountains with a name\n",
    "        replaced_sentence = sentence.replace(\"Mountains\", mountain_name)\n",
    "        \n",
    "        mountain_name = random.choice(mountain_names)\n",
    "        # replace lowercase mountains with a name\n",
    "        replaced_sentence = replaced_sentence.replace(\"mountains\", mountain_name)\n",
    "        replaced_sentences.append(replaced_sentence)\n",
    "        \n",
    "    return replaced_sentences\n",
    "\n",
    "replaces_sentences = replace_mountains(sentences, mountain_list)\n",
    "\n",
    "csv_file_path = \"data/dataset.csv\"\n",
    "with open(csv_file_path, \"w\", newline=\"\", encoding=\"utf-8\") as csvfile:\n",
    "    csv_writer = csv.writer(csvfile)\n",
    "    csv_writer.writerow([\"Sentence\"])\n",
    "    csv_writer.writerows([[sentence] for sentence in replaces_sentences])"
   ]
  },
  {
   "cell_type": "markdown",
   "metadata": {},
   "source": [
    "Save the dataset in csv"
   ]
  },
  {
   "cell_type": "code",
   "execution_count": 74,
   "metadata": {},
   "outputs": [
    {
     "data": {
      "text/html": [
       "<div>\n",
       "<style scoped>\n",
       "    .dataframe tbody tr th:only-of-type {\n",
       "        vertical-align: middle;\n",
       "    }\n",
       "\n",
       "    .dataframe tbody tr th {\n",
       "        vertical-align: top;\n",
       "    }\n",
       "\n",
       "    .dataframe thead th {\n",
       "        text-align: right;\n",
       "    }\n",
       "</style>\n",
       "<table border=\"1\" class=\"dataframe\">\n",
       "  <thead>\n",
       "    <tr style=\"text-align: right;\">\n",
       "      <th></th>\n",
       "      <th>Sentence</th>\n",
       "    </tr>\n",
       "  </thead>\n",
       "  <tbody>\n",
       "    <tr>\n",
       "      <th>0</th>\n",
       "      <td>I was in the Denali.</td>\n",
       "    </tr>\n",
       "    <tr>\n",
       "      <th>1</th>\n",
       "      <td>Mount Everest in the ocean and even whole rang...</td>\n",
       "    </tr>\n",
       "    <tr>\n",
       "      <th>2</th>\n",
       "      <td>I would rather go to the Mount Elbert than to ...</td>\n",
       "    </tr>\n",
       "    <tr>\n",
       "      <th>3</th>\n",
       "      <td>Which do you like better, the sea or the Denali?</td>\n",
       "    </tr>\n",
       "    <tr>\n",
       "      <th>4</th>\n",
       "      <td>Some people like the sea; others prefer the Mo...</td>\n",
       "    </tr>\n",
       "  </tbody>\n",
       "</table>\n",
       "</div>"
      ],
      "text/plain": [
       "                                            Sentence\n",
       "0                               I was in the Denali.\n",
       "1  Mount Everest in the ocean and even whole rang...\n",
       "2  I would rather go to the Mount Elbert than to ...\n",
       "3   Which do you like better, the sea or the Denali?\n",
       "4  Some people like the sea; others prefer the Mo..."
      ]
     },
     "execution_count": 74,
     "metadata": {},
     "output_type": "execute_result"
    }
   ],
   "source": [
    "df = pd.read_csv('data/dataset.csv')\n",
    "df.head()"
   ]
  },
  {
   "cell_type": "markdown",
   "metadata": {},
   "source": [
    "Then we create annotations in BIO-format"
   ]
  },
  {
   "cell_type": "code",
   "execution_count": 75,
   "metadata": {},
   "outputs": [
    {
     "data": {
      "text/html": [
       "<div>\n",
       "<style scoped>\n",
       "    .dataframe tbody tr th:only-of-type {\n",
       "        vertical-align: middle;\n",
       "    }\n",
       "\n",
       "    .dataframe tbody tr th {\n",
       "        vertical-align: top;\n",
       "    }\n",
       "\n",
       "    .dataframe thead th {\n",
       "        text-align: right;\n",
       "    }\n",
       "</style>\n",
       "<table border=\"1\" class=\"dataframe\">\n",
       "  <thead>\n",
       "    <tr style=\"text-align: right;\">\n",
       "      <th></th>\n",
       "      <th>Sentence</th>\n",
       "      <th>Annotation</th>\n",
       "    </tr>\n",
       "  </thead>\n",
       "  <tbody>\n",
       "    <tr>\n",
       "      <th>0</th>\n",
       "      <td>I was in the Denali.</td>\n",
       "      <td>O O O O B-MNTN</td>\n",
       "    </tr>\n",
       "    <tr>\n",
       "      <th>1</th>\n",
       "      <td>Mount Everest in the ocean and even whole rang...</td>\n",
       "      <td>B-MNTN I-MNTN O O O O O O O O O O O O O O O O ...</td>\n",
       "    </tr>\n",
       "    <tr>\n",
       "      <th>2</th>\n",
       "      <td>I would rather go to the Mount Elbert than to ...</td>\n",
       "      <td>O O O O O O B-MNTN I-MNTN O O O O</td>\n",
       "    </tr>\n",
       "    <tr>\n",
       "      <th>3</th>\n",
       "      <td>Which do you like better, the sea or the Denali?</td>\n",
       "      <td>O O O O O O O O O B-MNTN</td>\n",
       "    </tr>\n",
       "    <tr>\n",
       "      <th>4</th>\n",
       "      <td>Some people like the sea; others prefer the Mo...</td>\n",
       "      <td>O O O O O O O O B-MNTN I-MNTN</td>\n",
       "    </tr>\n",
       "  </tbody>\n",
       "</table>\n",
       "</div>"
      ],
      "text/plain": [
       "                                            Sentence  \\\n",
       "0                               I was in the Denali.   \n",
       "1  Mount Everest in the ocean and even whole rang...   \n",
       "2  I would rather go to the Mount Elbert than to ...   \n",
       "3   Which do you like better, the sea or the Denali?   \n",
       "4  Some people like the sea; others prefer the Mo...   \n",
       "\n",
       "                                          Annotation  \n",
       "0                                     O O O O B-MNTN  \n",
       "1  B-MNTN I-MNTN O O O O O O O O O O O O O O O O ...  \n",
       "2                  O O O O O O B-MNTN I-MNTN O O O O  \n",
       "3                           O O O O O O O O O B-MNTN  \n",
       "4                      O O O O O O O O B-MNTN I-MNTN  "
      ]
     },
     "execution_count": 75,
     "metadata": {},
     "output_type": "execute_result"
    }
   ],
   "source": [
    "def create_annotations(sentence):\n",
    "    # Split the sentence into individual words\n",
    "    words = sentence.split()\n",
    "    # Initialize all words with \"O\" (Outside of any mountain name)\n",
    "    annotations = [\"O\"] * len(words)\n",
    "\n",
    "    # Iterate through a predefined list of mountain names\n",
    "    for mountain_name in mountain_list:\n",
    "        if mountain_name in sentence:\n",
    "            mountain_words = mountain_name.split()\n",
    "            # Find the start index of the mountain name in the sentence\n",
    "            start_index = sentence.find(mountain_name)\n",
    "            # Convert character index to word index\n",
    "            start_word_index = len(sentence[:start_index].split())\n",
    "\n",
    "            # Assign BIO tags to the words in the mountain name\n",
    "            for i in range(len(mountain_words)):\n",
    "                if start_word_index + i < len(annotations):\n",
    "                    if i == 0:\n",
    "                        annotations[start_word_index + i] = \"B-MNTN\"\n",
    "                    else:\n",
    "                        annotations[start_word_index + i] = \"I-MNTN\"\n",
    "\n",
    "    return \" \".join(annotations)  # Return annotations as a space-separated string\n",
    "\n",
    "\n",
    "df[\"Annotation\"] = df[\"Sentence\"].apply(create_annotations)\n",
    "\n",
    "df.head()"
   ]
  },
  {
   "cell_type": "code",
   "execution_count": 76,
   "metadata": {},
   "outputs": [],
   "source": [
    "output_csv_name = 'data/annotated_dataset.csv'\n",
    "df.to_csv(output_csv_name, index=False)"
   ]
  }
 ],
 "metadata": {
  "kernelspec": {
   "display_name": "venv",
   "language": "python",
   "name": "python3"
  },
  "language_info": {
   "codemirror_mode": {
    "name": "ipython",
    "version": 3
   },
   "file_extension": ".py",
   "mimetype": "text/x-python",
   "name": "python",
   "nbconvert_exporter": "python",
   "pygments_lexer": "ipython3",
   "version": "3.11.8"
  }
 },
 "nbformat": 4,
 "nbformat_minor": 2
}
